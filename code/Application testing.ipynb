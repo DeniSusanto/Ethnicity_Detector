{
 "cells": [
  {
   "cell_type": "markdown",
   "metadata": {},
   "source": [
    "## Custom image input to try out the ethnicity detector"
   ]
  },
  {
   "cell_type": "code",
   "execution_count": 2,
   "metadata": {
    "scrolled": true
   },
   "outputs": [],
   "source": [
    "import warnings\n",
    "warnings.filterwarnings('ignore')\n",
    "import cv2\n",
    "import pandas as pd\n",
    "import os\n",
    "from os import listdir\n",
    "from os.path import join, isfile, splitext, basename, isdir\n",
    "import numpy as np\n",
    "import dlib\n",
    "import imutils\n",
    "import matplotlib.pyplot as plt\n",
    "import time\n",
    "import math\n",
    "from shutil import copyfile\n",
    "import pickle\n",
    "import gc\n",
    "\n",
    "import tensorflow as tf\n",
    "from tensorflow.keras import backend as K\n",
    "from tensorflow.keras.models import Sequential, Model, load_model\n",
    "from tensorflow.keras.layers import BatchNormalization, Input, Dense, Conv2D, MaxPooling2D, Dropout, Flatten, Activation, AveragePooling2D, ZeroPadding2D, Concatenate, Reshape\n",
    "from tensorflow.keras.callbacks import ModelCheckpoint, EarlyStopping #prevent losing model training since my computer shuts down alot when overheat\n",
    "from tensorflow.keras.utils import to_categorical, Sequence\n",
    "\n",
    "import matplotlib.pyplot as plt\n",
    "\n",
    "from facial_landmark import FacialLandmark #this py file is created to help on this project\n",
    "from facial_landmark_unopt import FacialLandmarkUnopt #unoptimized version\n",
    "import models_collection"
   ]
  },
  {
   "cell_type": "code",
   "execution_count": 3,
   "metadata": {},
   "outputs": [],
   "source": [
    "# For visualisation\n",
    "def showImage(title, image):\n",
    "    cv2.imshow(title, image)\n",
    "    cv2.moveWindow(title,0,0)\n",
    "    cv2.waitKey(0)\n",
    "    cv2.destroyAllWindows()\n",
    "\n",
    "def printImage(image):\n",
    "    image = cv2.cvtColor(image, cv2.COLOR_BGR2RGB)\n",
    "    plt.imshow(image)\n",
    "    plt.show()"
   ]
  },
  {
   "cell_type": "code",
   "execution_count": 4,
   "metadata": {},
   "outputs": [],
   "source": [
    "class DataGenerator(Sequence):\n",
    "    def __init__(self, list_IDs, labels, img_path, to_fit=True, batch_size=32, dim=(256,256), n_channels=3, n_classes=5, shuffle=True):\n",
    "        self.list_IDs = list_IDs\n",
    "        self.labels = labels\n",
    "        self.img_path = img_path\n",
    "        self.to_fit = to_fit\n",
    "        self.batch_size = batch_size\n",
    "        self.dim = dim\n",
    "        self.n_channels = n_channels\n",
    "        self.n_classes = n_classes\n",
    "        self.shuffle = shuffle\n",
    "        self.on_epoch_end()\n",
    "        \n",
    "    def __len__(self):\n",
    "        return int(np.floor(len(self.list_IDs) / self.batch_size))\n",
    "    def on_epoch_end(self):\n",
    "        self.indexes = np.arange(len(self.list_IDs))\n",
    "        if self.shuffle == True:\n",
    "            np.random.shuffle(self.indexes)\n",
    "            \n",
    "    def __getitem__(self, index):\n",
    "        indexes = self.indexes[index*self.batch_size:(index+1)*self.batch_size]\n",
    "\n",
    "        list_IDs_temp = [self.list_IDs[k] for k in indexes]\n",
    "        \n",
    "        data = self._generate_data(list_IDs_temp)\n",
    "\n",
    "        if self.to_fit:\n",
    "            X, y = data\n",
    "            return X, y\n",
    "        else:\n",
    "            return data\n",
    "    \n",
    "    def _generate_data(self, list_IDs):\n",
    "        X = np.empty((self.batch_size, *self.dim, self.n_channels))\n",
    "        if self.to_fit:\n",
    "            y = np.empty((self.batch_size), dtype=int)\n",
    "#         print(\"loading\", len(list_IDs), \"images\")\n",
    "        for i, image_name in enumerate(list_IDs):\n",
    "            pure_name = splitext(image_name)[0]\n",
    "            split_pure_name = pure_name.split('_')\n",
    "            if split_pure_name[-1] == \"mirror\":\n",
    "                actual_image_name = \"_\".join(split_pure_name[:-1])+splitext(image_name)[1]\n",
    "                image_path = join(self.img_path, actual_image_name)\n",
    "                image_BGR_mir = cv2.imread(image_path)\n",
    "                image_BGR = cv2.flip(image_BGR_mir, 1)\n",
    "            else:\n",
    "                image_path = join(self.img_path, image_name)\n",
    "                image_BGR = cv2.imread(image_path)\n",
    "            \n",
    "            image_RGB = cv2.cvtColor(image_BGR, cv2.COLOR_BGR2RGB)\n",
    "            image_resized = cv2.resize(image_RGB, self.dim, interpolation = cv2.INTER_LINEAR)\n",
    "            image_adjusted = image_resized / 255.0\n",
    "            X[i,] = image_adjusted\n",
    "            if self.to_fit:\n",
    "                y[i,] = self.labels[image_name]\n",
    "#         print(\"Done:\", len(list_IDs),\"Image loaded\")\n",
    "        if not self.to_fit:\n",
    "            return X\n",
    "        else:\n",
    "            return (X,to_categorical(y, num_classes=self.n_classes))"
   ]
  },
  {
   "cell_type": "code",
   "execution_count": 5,
   "metadata": {},
   "outputs": [
    {
     "name": "stdout",
     "output_type": "stream",
     "text": [
      "WARNING:tensorflow:From /userhome/30/dsusanto/anaconda3/envs/tensorflow/lib/python3.6/site-packages/tensorflow/python/ops/init_ops.py:97: calling GlorotUniform.__init__ (from tensorflow.python.ops.init_ops) with dtype is deprecated and will be removed in a future version.\n",
      "Instructions for updating:\n",
      "Call initializer instance with the dtype argument instead of passing it to the constructor\n",
      "WARNING:tensorflow:From /userhome/30/dsusanto/anaconda3/envs/tensorflow/lib/python3.6/site-packages/tensorflow/python/ops/init_ops.py:1251: calling VarianceScaling.__init__ (from tensorflow.python.ops.init_ops) with dtype is deprecated and will be removed in a future version.\n",
      "Instructions for updating:\n",
      "Call initializer instance with the dtype argument instead of passing it to the constructor\n",
      "WARNING:tensorflow:From /userhome/30/dsusanto/anaconda3/envs/tensorflow/lib/python3.6/site-packages/tensorflow/python/ops/init_ops.py:97: calling Zeros.__init__ (from tensorflow.python.ops.init_ops) with dtype is deprecated and will be removed in a future version.\n",
      "Instructions for updating:\n",
      "Call initializer instance with the dtype argument instead of passing it to the constructor\n"
     ]
    }
   ],
   "source": [
    "model = load_model(\"./models_v2/AlexNet_optimized_v34/000_AlexNet_optimized_v34_best_loss_110.h5\")"
   ]
  },
  {
   "cell_type": "code",
   "execution_count": 1,
   "metadata": {},
   "outputs": [],
   "source": [
    "FILTERED_TEST_IMAGE_PATH = \"./test_images\"\n",
    "image_name = \"aj.jpg\"\n",
    "image = cv2.imread(image_name)\n",
    "printImage(image)\n",
    "y={}\n",
    "y[image_name] = 2\n",
    "facial_landmark = FacialLandmark(image)\n",
    "face_only = facial_landmark.get_full_face_only()\n",
    "save_path = join(FILTERED_TEST_IMAGE_PATH,image_name)\n",
    "cv2.imwrite(save_path, face_only)\n",
    "test_gen = DataGenerator([image_name],y, FILTERED_TEST_IMAGE_PATH, shuffle = False, batch_size=1)\n",
    "label = [\"white\", \"black\", \"asian\", \"indian\", \"others\"]\n",
    "pred = model.predict(test_gen, verbose=1)\n",
    "print(\"prediction: \", label[np.argmax(pred[0])], pred[0] )"
   ]
  }
 ],
 "metadata": {
  "kernelspec": {
   "display_name": "Python 3",
   "language": "python",
   "name": "python3"
  },
  "language_info": {
   "codemirror_mode": {
    "name": "ipython",
    "version": 3
   },
   "file_extension": ".py",
   "mimetype": "text/x-python",
   "name": "python",
   "nbconvert_exporter": "python",
   "pygments_lexer": "ipython3",
   "version": "3.7.0"
  }
 },
 "nbformat": 4,
 "nbformat_minor": 4
}
